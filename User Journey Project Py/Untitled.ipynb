{
 "cells": [
  {
   "cell_type": "markdown",
   "id": "762bb7df",
   "metadata": {},
   "source": [
    "# Data Analysis\n",
    "### Samuel Mendez"
   ]
  },
  {
   "cell_type": "code",
   "execution_count": 1,
   "id": "3ebcfcf2",
   "metadata": {},
   "outputs": [],
   "source": [
    "# import libraries\n",
    "import pandas as pd\n",
    "import numpy as np"
   ]
  },
  {
   "cell_type": "code",
   "execution_count": 2,
   "id": "4bfcc66f",
   "metadata": {},
   "outputs": [],
   "source": [
    "# import clean data\n",
    "data = pd.read_csv('clean_data.csv')"
   ]
  },
  {
   "cell_type": "code",
   "execution_count": 3,
   "id": "2ab5a45c",
   "metadata": {},
   "outputs": [
    {
     "data": {
      "text/html": [
       "<div>\n",
       "<style scoped>\n",
       "    .dataframe tbody tr th:only-of-type {\n",
       "        vertical-align: middle;\n",
       "    }\n",
       "\n",
       "    .dataframe tbody tr th {\n",
       "        vertical-align: top;\n",
       "    }\n",
       "\n",
       "    .dataframe thead th {\n",
       "        text-align: right;\n",
       "    }\n",
       "</style>\n",
       "<table border=\"1\" class=\"dataframe\">\n",
       "  <thead>\n",
       "    <tr style=\"text-align: right;\">\n",
       "      <th></th>\n",
       "      <th>user_id</th>\n",
       "      <th>subscription_type</th>\n",
       "      <th>user_journey</th>\n",
       "    </tr>\n",
       "  </thead>\n",
       "  <tbody>\n",
       "    <tr>\n",
       "      <th>0</th>\n",
       "      <td>1516</td>\n",
       "      <td>Annual</td>\n",
       "      <td>Homepage-Other-Sign up-Homepage-Checkout-Coupo...</td>\n",
       "    </tr>\n",
       "    <tr>\n",
       "      <th>1</th>\n",
       "      <td>3395</td>\n",
       "      <td>Annual</td>\n",
       "      <td>Other-Pricing-Sign up-Homepage-Pricing-Checkout</td>\n",
       "    </tr>\n",
       "    <tr>\n",
       "      <th>2</th>\n",
       "      <td>10107</td>\n",
       "      <td>Annual</td>\n",
       "      <td>Homepage-Career tracks-Homepage-Career tracks-...</td>\n",
       "    </tr>\n",
       "    <tr>\n",
       "      <th>3</th>\n",
       "      <td>11145</td>\n",
       "      <td>Monthly</td>\n",
       "      <td>Homepage-Homepage-Homepage-Homepage-Homepage-H...</td>\n",
       "    </tr>\n",
       "    <tr>\n",
       "      <th>4</th>\n",
       "      <td>12400</td>\n",
       "      <td>Monthly</td>\n",
       "      <td>Homepage-Career tracks-Sign up-Other-Career tr...</td>\n",
       "    </tr>\n",
       "    <tr>\n",
       "      <th>...</th>\n",
       "      <td>...</td>\n",
       "      <td>...</td>\n",
       "      <td>...</td>\n",
       "    </tr>\n",
       "    <tr>\n",
       "      <th>1345</th>\n",
       "      <td>509060</td>\n",
       "      <td>Annual</td>\n",
       "      <td>Other</td>\n",
       "    </tr>\n",
       "    <tr>\n",
       "      <th>1346</th>\n",
       "      <td>509061</td>\n",
       "      <td>Annual</td>\n",
       "      <td>Coupon</td>\n",
       "    </tr>\n",
       "    <tr>\n",
       "      <th>1347</th>\n",
       "      <td>509085</td>\n",
       "      <td>Annual</td>\n",
       "      <td>Coupon</td>\n",
       "    </tr>\n",
       "    <tr>\n",
       "      <th>1348</th>\n",
       "      <td>509095</td>\n",
       "      <td>Annual</td>\n",
       "      <td>Other</td>\n",
       "    </tr>\n",
       "    <tr>\n",
       "      <th>1349</th>\n",
       "      <td>509096</td>\n",
       "      <td>Annual</td>\n",
       "      <td>Other-Coupon</td>\n",
       "    </tr>\n",
       "  </tbody>\n",
       "</table>\n",
       "<p>1350 rows × 3 columns</p>\n",
       "</div>"
      ],
      "text/plain": [
       "      user_id subscription_type  \\\n",
       "0        1516            Annual   \n",
       "1        3395            Annual   \n",
       "2       10107            Annual   \n",
       "3       11145           Monthly   \n",
       "4       12400           Monthly   \n",
       "...       ...               ...   \n",
       "1345   509060            Annual   \n",
       "1346   509061            Annual   \n",
       "1347   509085            Annual   \n",
       "1348   509095            Annual   \n",
       "1349   509096            Annual   \n",
       "\n",
       "                                           user_journey  \n",
       "0     Homepage-Other-Sign up-Homepage-Checkout-Coupo...  \n",
       "1       Other-Pricing-Sign up-Homepage-Pricing-Checkout  \n",
       "2     Homepage-Career tracks-Homepage-Career tracks-...  \n",
       "3     Homepage-Homepage-Homepage-Homepage-Homepage-H...  \n",
       "4     Homepage-Career tracks-Sign up-Other-Career tr...  \n",
       "...                                                 ...  \n",
       "1345                                              Other  \n",
       "1346                                             Coupon  \n",
       "1347                                             Coupon  \n",
       "1348                                              Other  \n",
       "1349                                       Other-Coupon  \n",
       "\n",
       "[1350 rows x 3 columns]"
      ]
     },
     "execution_count": 3,
     "metadata": {},
     "output_type": "execute_result"
    }
   ],
   "source": [
    "data"
   ]
  },
  {
   "cell_type": "code",
   "execution_count": 26,
   "id": "cb9a2e59",
   "metadata": {},
   "outputs": [],
   "source": [
    "# define a functuction that counts how times a page can be found in all user journeys\n",
    "\n",
    "def page_count(df, target_column = 'user_journey'):\n",
    "    df_copy = df.copy()\n",
    "    # drop missing values \n",
    "    df_copy = df_copy.dropna()\n",
    "    # split the pages at the hyphen\n",
    "    pages_list = df_copy[target_column].str.split('-')\n",
    "    \n",
    "    # flatten the rows of list\n",
    "    pages = [page for sublist in pages_list for page in sublist]\n",
    "        \n",
    "    # create a series to count the values  \n",
    "    pages_count = pd.Series(pages).value_counts()\n",
    "\n",
    "    \n",
    "    return pages_count"
   ]
  },
  {
   "cell_type": "code",
   "execution_count": 25,
   "id": "e3abdf9f",
   "metadata": {
    "scrolled": true
   },
   "outputs": [
    {
     "data": {
      "text/plain": [
       "Homepage                    2679\n",
       "Checkout                    1351\n",
       "Sign up                     1247\n",
       "Other                       1189\n",
       "Courses                     1087\n",
       "Career tracks               1070\n",
       "Pricing                     1053\n",
       "Coupon                       720\n",
       "Resources center             546\n",
       "Career track certificate     468\n",
       "Course certificate           212\n",
       "Upcoming courses             110\n",
       "Success stories               49\n",
       "Instructors                   43\n",
       "About us                      20\n",
       "Blog                          20\n",
       "Name: count, dtype: int64"
      ]
     },
     "execution_count": 25,
     "metadata": {},
     "output_type": "execute_result"
    }
   ],
   "source": [
    "page_count(data)"
   ]
  },
  {
   "cell_type": "code",
   "execution_count": null,
   "id": "e8eca172",
   "metadata": {},
   "outputs": [],
   "source": []
  },
  {
   "cell_type": "code",
   "execution_count": null,
   "id": "1c92992a",
   "metadata": {},
   "outputs": [],
   "source": []
  },
  {
   "cell_type": "code",
   "execution_count": null,
   "id": "f748f608",
   "metadata": {},
   "outputs": [],
   "source": []
  },
  {
   "cell_type": "code",
   "execution_count": null,
   "id": "53102ae4",
   "metadata": {},
   "outputs": [],
   "source": []
  }
 ],
 "metadata": {
  "kernelspec": {
   "display_name": "Python 3 (ipykernel)",
   "language": "python",
   "name": "python3"
  },
  "language_info": {
   "codemirror_mode": {
    "name": "ipython",
    "version": 3
   },
   "file_extension": ".py",
   "mimetype": "text/x-python",
   "name": "python",
   "nbconvert_exporter": "python",
   "pygments_lexer": "ipython3",
   "version": "3.11.5"
  }
 },
 "nbformat": 4,
 "nbformat_minor": 5
}
